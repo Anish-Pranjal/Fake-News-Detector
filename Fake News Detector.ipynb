{
 "cells": [
  {
   "cell_type": "code",
   "execution_count": 1,
   "id": "96281b18",
   "metadata": {},
   "outputs": [
    {
     "name": "stderr",
     "output_type": "stream",
     "text": [
      "[nltk_data] Downloading package stopwords to\n",
      "[nltk_data]     C:\\Users\\DELL\\AppData\\Roaming\\nltk_data...\n",
      "[nltk_data]   Package stopwords is already up-to-date!\n"
     ]
    }
   ],
   "source": [
    "import pandas as pd\n",
    "import numpy as np\n",
    "import re\n",
    "from nltk.corpus import stopwords\n",
    "from nltk.stem.porter import PorterStemmer\n",
    "import nltk\n",
    "nltk.download('stopwords')\n",
    "\n",
    "import seaborn as sns\n",
    "from matplotlib.pylab import plt\n",
    "import time\n",
    "import datetime\n",
    "from sklearn.metrics import f1_score, accuracy_score, confusion_matrix, precision_score, recall_score\n",
    "\n",
    "from sklearn.feature_extraction.text import CountVectorizer, TfidfVectorizer\n",
    "import torch\n",
    "from transformers import BertTokenizer, BertForSequenceClassification, AdamW, get_linear_schedule_with_warmup\n",
    "from torch.utils.data import TensorDataset, random_split, DataLoader"
   ]
  },
  {
   "cell_type": "code",
   "execution_count": 2,
   "id": "ed315d50",
   "metadata": {},
   "outputs": [],
   "source": [
    "news_data = pd.read_csv('WELFake_Dataset.csv')"
   ]
  },
  {
   "cell_type": "code",
   "execution_count": 3,
   "id": "c518379f",
   "metadata": {},
   "outputs": [],
   "source": [
    "class_names = ['fake', 'real'] # 0: fake, 1: real"
   ]
  },
  {
   "cell_type": "code",
   "execution_count": 4,
   "id": "0adc0cca",
   "metadata": {},
   "outputs": [
    {
     "data": {
      "text/html": [
       "<div>\n",
       "<style scoped>\n",
       "    .dataframe tbody tr th:only-of-type {\n",
       "        vertical-align: middle;\n",
       "    }\n",
       "\n",
       "    .dataframe tbody tr th {\n",
       "        vertical-align: top;\n",
       "    }\n",
       "\n",
       "    .dataframe thead th {\n",
       "        text-align: right;\n",
       "    }\n",
       "</style>\n",
       "<table border=\"1\" class=\"dataframe\">\n",
       "  <thead>\n",
       "    <tr style=\"text-align: right;\">\n",
       "      <th></th>\n",
       "      <th>Unnamed: 0</th>\n",
       "      <th>title</th>\n",
       "      <th>text</th>\n",
       "      <th>label</th>\n",
       "    </tr>\n",
       "  </thead>\n",
       "  <tbody>\n",
       "    <tr>\n",
       "      <th>0</th>\n",
       "      <td>0</td>\n",
       "      <td>LAW ENFORCEMENT ON HIGH ALERT Following Threat...</td>\n",
       "      <td>No comment is expected from Barack Obama Membe...</td>\n",
       "      <td>1</td>\n",
       "    </tr>\n",
       "    <tr>\n",
       "      <th>1</th>\n",
       "      <td>1</td>\n",
       "      <td>NaN</td>\n",
       "      <td>Did they post their votes for Hillary already?</td>\n",
       "      <td>1</td>\n",
       "    </tr>\n",
       "    <tr>\n",
       "      <th>2</th>\n",
       "      <td>2</td>\n",
       "      <td>UNBELIEVABLE! OBAMA’S ATTORNEY GENERAL SAYS MO...</td>\n",
       "      <td>Now, most of the demonstrators gathered last ...</td>\n",
       "      <td>1</td>\n",
       "    </tr>\n",
       "    <tr>\n",
       "      <th>3</th>\n",
       "      <td>3</td>\n",
       "      <td>Bobby Jindal, raised Hindu, uses story of Chri...</td>\n",
       "      <td>A dozen politically active pastors came here f...</td>\n",
       "      <td>0</td>\n",
       "    </tr>\n",
       "    <tr>\n",
       "      <th>4</th>\n",
       "      <td>4</td>\n",
       "      <td>SATAN 2: Russia unvelis an image of its terrif...</td>\n",
       "      <td>The RS-28 Sarmat missile, dubbed Satan 2, will...</td>\n",
       "      <td>1</td>\n",
       "    </tr>\n",
       "  </tbody>\n",
       "</table>\n",
       "</div>"
      ],
      "text/plain": [
       "   Unnamed: 0                                              title  \\\n",
       "0           0  LAW ENFORCEMENT ON HIGH ALERT Following Threat...   \n",
       "1           1                                                NaN   \n",
       "2           2  UNBELIEVABLE! OBAMA’S ATTORNEY GENERAL SAYS MO...   \n",
       "3           3  Bobby Jindal, raised Hindu, uses story of Chri...   \n",
       "4           4  SATAN 2: Russia unvelis an image of its terrif...   \n",
       "\n",
       "                                                text  label  \n",
       "0  No comment is expected from Barack Obama Membe...      1  \n",
       "1     Did they post their votes for Hillary already?      1  \n",
       "2   Now, most of the demonstrators gathered last ...      1  \n",
       "3  A dozen politically active pastors came here f...      0  \n",
       "4  The RS-28 Sarmat missile, dubbed Satan 2, will...      1  "
      ]
     },
     "execution_count": 4,
     "metadata": {},
     "output_type": "execute_result"
    }
   ],
   "source": [
    "news_data.head()"
   ]
  },
  {
   "cell_type": "code",
   "execution_count": 5,
   "id": "75d18823",
   "metadata": {},
   "outputs": [
    {
     "name": "stdout",
     "output_type": "stream",
     "text": [
      "<class 'pandas.core.frame.DataFrame'>\n",
      "RangeIndex: 72134 entries, 0 to 72133\n",
      "Data columns (total 4 columns):\n",
      " #   Column      Non-Null Count  Dtype \n",
      "---  ------      --------------  ----- \n",
      " 0   Unnamed: 0  72134 non-null  int64 \n",
      " 1   title       71576 non-null  object\n",
      " 2   text        72095 non-null  object\n",
      " 3   label       72134 non-null  int64 \n",
      "dtypes: int64(2), object(2)\n",
      "memory usage: 2.2+ MB\n"
     ]
    }
   ],
   "source": [
    "news_data.info()"
   ]
  },
  {
   "cell_type": "code",
   "execution_count": 6,
   "id": "cedffa88",
   "metadata": {},
   "outputs": [
    {
     "data": {
      "text/plain": [
       "Unnamed: 0      0\n",
       "title         558\n",
       "text           39\n",
       "label           0\n",
       "dtype: int64"
      ]
     },
     "execution_count": 6,
     "metadata": {},
     "output_type": "execute_result"
    }
   ],
   "source": [
    "news_data.isnull().sum()"
   ]
  },
  {
   "cell_type": "code",
   "execution_count": 7,
   "id": "a1ebade3",
   "metadata": {},
   "outputs": [],
   "source": [
    "news_data = news_data.fillna('')"
   ]
  },
  {
   "cell_type": "code",
   "execution_count": 8,
   "id": "33252307",
   "metadata": {},
   "outputs": [
    {
     "data": {
      "text/plain": [
       "Unnamed: 0    0\n",
       "title         0\n",
       "text          0\n",
       "label         0\n",
       "dtype: int64"
      ]
     },
     "execution_count": 8,
     "metadata": {},
     "output_type": "execute_result"
    }
   ],
   "source": [
    "news_data.isnull().sum()"
   ]
  },
  {
   "cell_type": "code",
   "execution_count": 9,
   "id": "b935e9b2",
   "metadata": {},
   "outputs": [
    {
     "data": {
      "text/plain": [
       "Unnamed: 0    72134\n",
       "title         62348\n",
       "text          62719\n",
       "label             2\n",
       "dtype: int64"
      ]
     },
     "execution_count": 9,
     "metadata": {},
     "output_type": "execute_result"
    }
   ],
   "source": [
    "news_data.nunique()"
   ]
  },
  {
   "cell_type": "code",
   "execution_count": 10,
   "id": "c9e84254",
   "metadata": {},
   "outputs": [
    {
     "data": {
      "image/png": "[encoded data removed]",
      "text/plain": [
       "<Figure size 640x480 with 1 Axes>"
      ]
     },
     "metadata": {},
     "output_type": "display_data"
    }
   ],
   "source": [
    "import seaborn as sns\n",
    "import matplotlib.pyplot as plt\n",
    "\n",
    "label_count = news_data.label.value_counts()\n",
    "\n",
    "sns.barplot(x=label_count.index, y=label_count.values)  # Use keyword arguments\n",
    "plt.title('Target Count', fontsize=14)\n",
    "plt.show()"
   ]
  },
  {
   "cell_type": "code",
   "execution_count": 11,
   "id": "fa466af1",
   "metadata": {},
   "outputs": [],
   "source": [
    "port = PorterStemmer()\n",
    "\n",
    "def stemming(text):\n",
    "    stem_text = re.sub('[^a-zA-Z]', ' ', text)\n",
    "    stem_text = stem_text.lower()\n",
    "    stem_text = stem_text.split()\n",
    "    \n",
    "    stem_text = [port.stem(word) for word in stem_text if not word in stopwords.words('english')]\n",
    "    stem_text = ' '.join(stem_text)\n",
    "    \n",
    "    return stem_text"
   ]
  },
  {
   "cell_type": "code",
   "execution_count": 12,
   "id": "7c72362e",
   "metadata": {},
   "outputs": [],
   "source": [
    "def refinement_tfidf(text): # TF-IDF\n",
    "    ex = text.split('.')\n",
    "    ex = pd.DataFrame(ex)[0].apply(stemming)\n",
    "    \n",
    "    if ex[0] == '':\n",
    "        return text\n",
    "    \n",
    "    vectorizer = TfidfVectorizer()\n",
    "    try:\n",
    "        vectorizer.fit(ex)\n",
    "        features = vectorizer.transform(ex)\n",
    "    except:\n",
    "        return text\n",
    "    \n",
    "    feature_names = np.array(vectorizer.get_feature_names_out())\n",
    "    feature_count = features.toarray().mean(axis=0)\n",
    "    \n",
    "    refined_text = ' '.join(feature_names[feature_count > 0.05]) # setting the importance weights according to TF-IDF\n",
    "    \n",
    "    return refined_text"
   ]
  },
  {
   "cell_type": "code",
   "execution_count": 13,
   "id": "aa051778",
   "metadata": {},
   "outputs": [
    {
     "name": "stdout",
     "output_type": "stream",
     "text": [
      "219865.79365181923\n"
     ]
    }
   ],
   "source": [
    "t0 = time.time()\n",
    "news_data['refined_tfidf'] = news_data['text'].apply(refinement_tfidf)\n",
    "print(time.time() - t0)"
   ]
  },
  {
   "cell_type": "code",
   "execution_count": 14,
   "id": "a80f454e",
   "metadata": {},
   "outputs": [
    {
     "data": {
      "text/html": [
       "<div>\n",
       "<style scoped>\n",
       "    .dataframe tbody tr th:only-of-type {\n",
       "        vertical-align: middle;\n",
       "    }\n",
       "\n",
       "    .dataframe tbody tr th {\n",
       "        vertical-align: top;\n",
       "    }\n",
       "\n",
       "    .dataframe thead th {\n",
       "        text-align: right;\n",
       "    }\n",
       "</style>\n",
       "<table border=\"1\" class=\"dataframe\">\n",
       "  <thead>\n",
       "    <tr style=\"text-align: right;\">\n",
       "      <th></th>\n",
       "      <th>Unnamed: 0</th>\n",
       "      <th>title</th>\n",
       "      <th>text</th>\n",
       "      <th>label</th>\n",
       "      <th>refined_tfidf</th>\n",
       "    </tr>\n",
       "  </thead>\n",
       "  <tbody>\n",
       "    <tr>\n",
       "      <th>0</th>\n",
       "      <td>0</td>\n",
       "      <td>LAW ENFORCEMENT ON HIGH ALERT Following Threat...</td>\n",
       "      <td>No comment is expected from Barack Obama Membe...</td>\n",
       "      <td>1</td>\n",
       "      <td>said</td>\n",
       "    </tr>\n",
       "    <tr>\n",
       "      <th>1</th>\n",
       "      <td>1</td>\n",
       "      <td></td>\n",
       "      <td>Did they post their votes for Hillary already?</td>\n",
       "      <td>1</td>\n",
       "      <td>alreadi hillari post vote</td>\n",
       "    </tr>\n",
       "    <tr>\n",
       "      <th>2</th>\n",
       "      <td>2</td>\n",
       "      <td>UNBELIEVABLE! OBAMA’S ATTORNEY GENERAL SAYS MO...</td>\n",
       "      <td>Now, most of the demonstrators gathered last ...</td>\n",
       "      <td>1</td>\n",
       "      <td>aka chang constitut creat demonstr eric exerci...</td>\n",
       "    </tr>\n",
       "    <tr>\n",
       "      <th>3</th>\n",
       "      <td>3</td>\n",
       "      <td>Bobby Jindal, raised Hindu, uses story of Chri...</td>\n",
       "      <td>A dozen politically active pastors came here f...</td>\n",
       "      <td>0</td>\n",
       "      <td>jindal</td>\n",
       "    </tr>\n",
       "    <tr>\n",
       "      <th>4</th>\n",
       "      <td>4</td>\n",
       "      <td>SATAN 2: Russia unvelis an image of its terrif...</td>\n",
       "      <td>The RS-28 Sarmat missile, dubbed Satan 2, will...</td>\n",
       "      <td>1</td>\n",
       "      <td>design dub km mile missil rs sarmat satan weapon</td>\n",
       "    </tr>\n",
       "  </tbody>\n",
       "</table>\n",
       "</div>"
      ],
      "text/plain": [
       "   Unnamed: 0                                              title  \\\n",
       "0           0  LAW ENFORCEMENT ON HIGH ALERT Following Threat...   \n",
       "1           1                                                      \n",
       "2           2  UNBELIEVABLE! OBAMA’S ATTORNEY GENERAL SAYS MO...   \n",
       "3           3  Bobby Jindal, raised Hindu, uses story of Chri...   \n",
       "4           4  SATAN 2: Russia unvelis an image of its terrif...   \n",
       "\n",
       "                                                text  label  \\\n",
       "0  No comment is expected from Barack Obama Membe...      1   \n",
       "1     Did they post their votes for Hillary already?      1   \n",
       "2   Now, most of the demonstrators gathered last ...      1   \n",
       "3  A dozen politically active pastors came here f...      0   \n",
       "4  The RS-28 Sarmat missile, dubbed Satan 2, will...      1   \n",
       "\n",
       "                                       refined_tfidf  \n",
       "0                                               said  \n",
       "1                          alreadi hillari post vote  \n",
       "2  aka chang constitut creat demonstr eric exerci...  \n",
       "3                                             jindal  \n",
       "4   design dub km mile missil rs sarmat satan weapon  "
      ]
     },
     "execution_count": 14,
     "metadata": {},
     "output_type": "execute_result"
    }
   ],
   "source": [
    "news_data.head()"
   ]
  },
  {
   "cell_type": "code",
   "execution_count": 15,
   "id": "5c71770f",
   "metadata": {},
   "outputs": [],
   "source": [
    "labels = news_data['label'].values\n",
    "texts = (news_data['title'] + ' ' + news_data['refined_tfidf']).values"
   ]
  },
  {
   "cell_type": "code",
   "execution_count": 16,
   "id": "21b8573d",
   "metadata": {},
   "outputs": [],
   "source": [
    "tokenizer = BertTokenizer.from_pretrained('bert-base-uncased')"
   ]
  },
  {
   "cell_type": "code",
   "execution_count": 17,
   "id": "69e495e6",
   "metadata": {},
   "outputs": [
    {
     "name": "stdout",
     "output_type": "stream",
     "text": [
      "How they could steal the election from Trump even if he is announced the winner next Tuesday elect elector trump vote would\n",
      "['how', 'they', 'could', 'steal', 'the', 'election', 'from', 'trump', 'even', 'if', 'he', 'is', 'announced', 'the', 'winner', 'next', 'tuesday', 'elect', 'elector', 'trump', 'vote', 'would']\n",
      "[2129, 2027, 2071, 8954, 1996, 2602, 2013, 8398, 2130, 2065, 2002, 2003, 2623, 1996, 3453, 2279, 9857, 11322, 20374, 8398, 3789, 2052]\n"
     ]
    }
   ],
   "source": [
    "idx = np.random.choice(range(len(texts)))\n",
    "print(texts[idx])\n",
    "# Tokenized\n",
    "print(tokenizer.tokenize(texts[idx]))\n",
    "# Token to Integral\n",
    "print(tokenizer.convert_tokens_to_ids(tokenizer.tokenize(texts[idx])))"
   ]
  },
  {
   "cell_type": "code",
   "execution_count": 18,
   "id": "225a1e25",
   "metadata": {},
   "outputs": [
    {
     "name": "stderr",
     "output_type": "stream",
     "text": [
      "Token indices sequence length is longer than the specified maximum sequence length for this model (945 > 512). Running this sequence through the model will result in indexing errors\n"
     ]
    },
    {
     "name": "stdout",
     "output_type": "stream",
     "text": [
      "Max sentence length:  197\n"
     ]
    }
   ],
   "source": [
    "max_len = 0\n",
    "id_len = []\n",
    "for text in texts:\n",
    "    input_ids = tokenizer.encode(text, add_special_tokens=True)\n",
    "    if len(input_ids) > 200:\n",
    "        continue\n",
    "    id_len.append(len(input_ids))\n",
    "    max_len = max(max_len, len(input_ids))\n",
    "print('Max sentence length: ', max_len)"
   ]
  },
  {
   "cell_type": "code",
   "execution_count": 19,
   "id": "8b48b7a9",
   "metadata": {},
   "outputs": [
    {
     "data": {
      "text/plain": [
       "<Axes: >"
      ]
     },
     "execution_count": 19,
     "metadata": {},
     "output_type": "execute_result"
    },
    {
     "data": {
      "image/png": "[encoded data removed]",
      "text/plain": [
       "<Figure size 640x480 with 1 Axes>"
      ]
     },
     "metadata": {},
     "output_type": "display_data"
    }
   ],
   "source": [
    "pd.Series(id_len).hist(bins=25)"
   ]
  },
  {
   "cell_type": "code",
   "execution_count": 20,
   "id": "2950e03f",
   "metadata": {},
   "outputs": [],
   "source": [
    "def tokenize_map(sentences, labels=None):\n",
    "    input_ids = []\n",
    "    attention_masks = []\n",
    "\n",
    "    for sent in sentences:\n",
    "        encoded_dict = tokenizer.encode_plus(\n",
    "            sent,\n",
    "            add_special_tokens=True,\n",
    "            max_length=128,\n",
    "            pad_to_max_length=True,\n",
    "            return_attention_mask=True,\n",
    "            return_tensors=\"pt\",\n",
    "            truncation=True\n",
    "        )\n",
    "        input_ids.append(encoded_dict[\"input_ids\"])\n",
    "        attention_masks.append(encoded_dict[\"attention_mask\"])\n",
    "\n",
    "    input_ids = torch.cat(input_ids, dim=0)\n",
    "    attention_masks = torch.cat(attention_masks, dim=0)\n",
    "\n",
    "    if labels is not None:  # Proper check for None\n",
    "        labels = torch.tensor(labels)\n",
    "        return input_ids, attention_masks, labels\n",
    "    else:\n",
    "        return input_ids, attention_masks"
   ]
  },
  {
   "cell_type": "code",
   "execution_count": 21,
   "id": "f792fb36",
   "metadata": {},
   "outputs": [
    {
     "name": "stderr",
     "output_type": "stream",
     "text": [
      "C:\\Users\\DELL\\anaconda3\\Lib\\site-packages\\transformers\\tokenization_utils_base.py:2690: FutureWarning: The `pad_to_max_length` argument is deprecated and will be removed in a future version, use `padding=True` or `padding='longest'` to pad to the longest sequence in the batch, or use `padding='max_length'` to pad to a max length. In this case, you can give a specific length with `max_length` (e.g. `max_length=45`) or leave max_length to None to pad to the maximal input size of the model (e.g. 512 for Bert).\n",
      "  warnings.warn(\n"
     ]
    },
    {
     "data": {
      "text/plain": [
       "(57707, 14427)"
      ]
     },
     "execution_count": 21,
     "metadata": {},
     "output_type": "execute_result"
    }
   ],
   "source": [
    "input_ids, attention_masks, labels = tokenize_map(texts, labels)\n",
    "\n",
    "dataset = TensorDataset(input_ids, attention_masks, labels)\n",
    "\n",
    "train_size = int(0.8 * len(dataset))\n",
    "val_size = len(dataset) - train_size\n",
    "\n",
    "train_dataset, val_dataset = random_split(dataset, [train_size, val_size])\n",
    "len(train_dataset.indices), len(val_dataset.indices)"
   ]
  },
  {
   "cell_type": "code",
   "execution_count": 22,
   "id": "679e0832",
   "metadata": {},
   "outputs": [],
   "source": [
    "batch_size = 32\n",
    "num_workers = 4\n",
    "\n",
    "train_loader = DataLoader(\n",
    "                dataset=train_dataset,\n",
    "                batch_size=batch_size,\n",
    "                shuffle=True,\n",
    "                num_workers=num_workers)\n",
    "\n",
    "val_loader = DataLoader(\n",
    "                dataset=val_dataset,\n",
    "                batch_size=1,\n",
    "                shuffle=False)"
   ]
  },
  {
   "cell_type": "code",
   "execution_count": 23,
   "id": "533c8086",
   "metadata": {},
   "outputs": [
    {
     "name": "stderr",
     "output_type": "stream",
     "text": [
      "Some weights of BertForSequenceClassification were not initialized from the model checkpoint at bert-base-uncased and are newly initialized: ['classifier.bias', 'classifier.weight']\n",
      "You should probably TRAIN this model on a down-stream task to be able to use it for predictions and inference.\n"
     ]
    },
    {
     "data": {
      "text/plain": [
       "BertForSequenceClassification(\n",
       "  (bert): BertModel(\n",
       "    (embeddings): BertEmbeddings(\n",
       "      (word_embeddings): Embedding(30522, 768, padding_idx=0)\n",
       "      (position_embeddings): Embedding(512, 768)\n",
       "      (token_type_embeddings): Embedding(2, 768)\n",
       "      (LayerNorm): LayerNorm((768,), eps=1e-12, elementwise_affine=True)\n",
       "      (dropout): Dropout(p=0.1, inplace=False)\n",
       "    )\n",
       "    (encoder): BertEncoder(\n",
       "      (layer): ModuleList(\n",
       "        (0-11): 12 x BertLayer(\n",
       "          (attention): BertAttention(\n",
       "            (self): BertSdpaSelfAttention(\n",
       "              (query): Linear(in_features=768, out_features=768, bias=True)\n",
       "              (key): Linear(in_features=768, out_features=768, bias=True)\n",
       "              (value): Linear(in_features=768, out_features=768, bias=True)\n",
       "              (dropout): Dropout(p=0.1, inplace=False)\n",
       "            )\n",
       "            (output): BertSelfOutput(\n",
       "              (dense): Linear(in_features=768, out_features=768, bias=True)\n",
       "              (LayerNorm): LayerNorm((768,), eps=1e-12, elementwise_affine=True)\n",
       "              (dropout): Dropout(p=0.1, inplace=False)\n",
       "            )\n",
       "          )\n",
       "          (intermediate): BertIntermediate(\n",
       "            (dense): Linear(in_features=768, out_features=3072, bias=True)\n",
       "            (intermediate_act_fn): GELUActivation()\n",
       "          )\n",
       "          (output): BertOutput(\n",
       "            (dense): Linear(in_features=3072, out_features=768, bias=True)\n",
       "            (LayerNorm): LayerNorm((768,), eps=1e-12, elementwise_affine=True)\n",
       "            (dropout): Dropout(p=0.1, inplace=False)\n",
       "          )\n",
       "        )\n",
       "      )\n",
       "    )\n",
       "    (pooler): BertPooler(\n",
       "      (dense): Linear(in_features=768, out_features=768, bias=True)\n",
       "      (activation): Tanh()\n",
       "    )\n",
       "  )\n",
       "  (dropout): Dropout(p=0.1, inplace=False)\n",
       "  (classifier): Linear(in_features=768, out_features=2, bias=True)\n",
       ")"
      ]
     },
     "execution_count": 23,
     "metadata": {},
     "output_type": "execute_result"
    }
   ],
   "source": [
    "device = torch.device('cuda:0' if torch.cuda.is_available() else 'cpu')\n",
    "\n",
    "model = BertForSequenceClassification.from_pretrained(\n",
    "        'bert-base-uncased',\n",
    "        num_labels=2,\n",
    "        output_attentions=False,\n",
    "        output_hidden_states=False)\n",
    "model.to(device)"
   ]
  },
  {
   "cell_type": "code",
   "execution_count": 24,
   "id": "1e7ec773",
   "metadata": {},
   "outputs": [],
   "source": [
    "optimizer = torch.optim.AdamW(model.parameters(),\n",
    "                              lr=6e-6,\n",
    "                              eps=1e-8)"
   ]
  },
  {
   "cell_type": "code",
   "execution_count": 25,
   "id": "0a0aa747",
   "metadata": {},
   "outputs": [],
   "source": [
    "num_epochs = 6 #10\n",
    "total_steps = len(train_loader) * num_epochs\n",
    "scheduler = get_linear_schedule_with_warmup(optimizer, \n",
    "                                            num_warmup_steps = 0,\n",
    "                                            num_training_steps = total_steps)"
   ]
  },
  {
   "cell_type": "code",
   "execution_count": 26,
   "id": "e4f281ce",
   "metadata": {},
   "outputs": [
    {
     "name": "stdout",
     "output_type": "stream",
     "text": [
      "3200 / 28853\n",
      "6400 / 28853\n",
      "9600 / 28853\n",
      "12800 / 28853\n",
      "16000 / 28853\n",
      "19200 / 28853\n",
      "22400 / 28853\n",
      "25600 / 28853\n",
      "28800 / 28853\n",
      "Epoch: 1, Loss: 0.2683\n",
      "3200 / 28853\n",
      "6400 / 28853\n",
      "9600 / 28853\n",
      "12800 / 28853\n",
      "16000 / 28853\n",
      "19200 / 28853\n",
      "22400 / 28853\n",
      "25600 / 28853\n",
      "28800 / 28853\n",
      "Epoch: 2, Loss: 0.1483\n",
      "3200 / 28853\n",
      "6400 / 28853\n",
      "9600 / 28853\n",
      "12800 / 28853\n",
      "16000 / 28853\n",
      "19200 / 28853\n",
      "22400 / 28853\n",
      "25600 / 28853\n",
      "28800 / 28853\n",
      "Epoch: 3, Loss: 0.1029\n",
      "3200 / 28853\n",
      "6400 / 28853\n",
      "9600 / 28853\n",
      "12800 / 28853\n",
      "16000 / 28853\n",
      "19200 / 28853\n",
      "22400 / 28853\n",
      "25600 / 28853\n",
      "28800 / 28853\n",
      "Epoch: 4, Loss: 0.0722\n",
      "3200 / 28853\n",
      "6400 / 28853\n",
      "9600 / 28853\n",
      "12800 / 28853\n",
      "16000 / 28853\n",
      "19200 / 28853\n",
      "22400 / 28853\n",
      "25600 / 28853\n",
      "28800 / 28853\n",
      "Epoch: 5, Loss: 0.0500\n",
      "3200 / 28853\n",
      "6400 / 28853\n",
      "9600 / 28853\n",
      "12800 / 28853\n",
      "16000 / 28853\n",
      "19200 / 28853\n",
      "22400 / 28853\n",
      "25600 / 28853\n",
      "28800 / 28853\n",
      "Epoch: 6, Loss: 0.0366\n",
      "Model saved successfully at nets/BERT.ckpt\n"
     ]
    }
   ],
   "source": [
    "import torch\n",
    "\n",
    "# Limit dataset size (e.g., use only 50% of the data)\n",
    "subset_size = int(0.5 * len(train_dataset))  # Adjust fraction as needed -- 0.9\n",
    "train_dataset = torch.utils.data.Subset(train_dataset, range(subset_size))\n",
    "\n",
    "# Create DataLoader again with the new subset\n",
    "train_loader = torch.utils.data.DataLoader(train_dataset, batch_size=batch_size, shuffle=True)\n",
    "\n",
    "# Training loop\n",
    "model.train()\n",
    "total_step = len(train_loader)\n",
    "\n",
    "for epoch in range(num_epochs):\n",
    "    total_loss = 0\n",
    "\n",
    "    for i, (ids, masks, labels) in enumerate(train_loader, start=1):\n",
    "        ids, masks, labels = ids.to(device), masks.to(device), labels.to(device)\n",
    "\n",
    "        outputs = model(ids, token_type_ids=None, attention_mask=masks, labels=labels)\n",
    "        loss = outputs[0]  # Extract loss\n",
    "\n",
    "        optimizer.zero_grad()\n",
    "        loss.backward()\n",
    "        optimizer.step()\n",
    "        scheduler.step()\n",
    "\n",
    "        total_loss += loss.item()\n",
    "\n",
    "        # Print progress every 100 batches\n",
    "        if i % 100 == 0: # 100\n",
    "            print(f'{batch_size * i} / {subset_size}')\n",
    "\n",
    "    avg_loss = total_loss / total_step   \n",
    "    print(f'Epoch: {epoch+1}, Loss: {avg_loss:.4f}')\n",
    "\n",
    "# Save model efficiently\n",
    "import os\n",
    "import torch\n",
    "\n",
    "# Ensure the directory exists\n",
    "save_path = 'nets/BERT.ckpt'\n",
    "os.makedirs(os.path.dirname(save_path), exist_ok=True)\n",
    "\n",
    "# Save model\n",
    "torch.save(model.state_dict(), save_path)\n",
    "print(f\"Model saved successfully at {save_path}\")"
   ]
  },
  {
   "cell_type": "code",
   "execution_count": 27,
   "id": "7b0511b2",
   "metadata": {},
   "outputs": [
    {
     "data": {
      "text/plain": [
       "<All keys matched successfully>"
      ]
     },
     "execution_count": 27,
     "metadata": {},
     "output_type": "execute_result"
    }
   ],
   "source": [
    "model.eval()\n",
    "model.load_state_dict(torch.load('nets/BERT.ckpt', map_location=device))"
   ]
  },
  {
   "cell_type": "code",
   "execution_count": 28,
   "id": "d18648d0",
   "metadata": {},
   "outputs": [
    {
     "name": "stdout",
     "output_type": "stream",
     "text": [
      "Accuracy: 0.9418\n",
      "\n"
     ]
    }
   ],
   "source": [
    "import torch\n",
    "\n",
    "model.eval()  # Set model to evaluation mode\n",
    "score = 0\n",
    "\n",
    "with torch.no_grad():  # Disable gradient tracking for efficiency\n",
    "    for ids, masks, labels in val_loader:\n",
    "        ids, masks, labels = ids.to(device), masks.to(device), labels.to(device)\n",
    "\n",
    "        outputs = model(ids, token_type_ids=None, attention_mask=masks, labels=labels)\n",
    "        logits = outputs[1]  # Extract logits\n",
    "\n",
    "        preds = torch.argmax(logits, dim=1)  # Get batch predictions\n",
    "        score += (preds == labels).sum().item()  # Compare entire batch at once\n",
    "\n",
    "avg = score / len(val_dataset)\n",
    "print(f'Accuracy: {avg:.4f}\\n')"
   ]
  },
  {
   "cell_type": "code",
   "execution_count": 29,
   "id": "8cde41f0",
   "metadata": {},
   "outputs": [
    {
     "name": "stdout",
     "output_type": "stream",
     "text": [
      "\u001b[1mOnPolitics | 's politics blog\n",
      "\n",
      "\u001b[0mWhat you need to know about the election recounts\n",
      "\n",
      "Green Party presidential candidate Jill Stein intends to seek recounts in Michigan, Pennsylvania and Wisconsin.\n",
      "\n",
      "\n",
      "Predict: fake\n",
      "GT: fake\n",
      "---------------------------------------------------------------------------------------------\n",
      "\n",
      "\u001b[1mFirst Iraqi Troops Enter Mosul, But Fighting Remains Largely in Suburbs\n",
      "\n",
      "\u001b[0mMilitary: Goal Is to 'Liberate' Eastern Bank of Tigris River by Jason Ditz, October 31, 2016 Share This \n",
      "Iraq’s invasion of Mosul has entered its third week with a noteworthy first, as the first Iraqi special forces entered the city itself in the area around Karama District, in the far east. There was fighting reported both within the district and in surrounding suburbs. \n",
      "Indications are that the vast majority of the fighting in the area remains in the suburbs, with only a small incursion into the city itself. Still, Iraqi military officials say their goal is to take the whole eastern bank of the Tigris River, which divides the city. \n",
      "The area entered is near a key industrial site within Mosul. It is unclear how well secured this area is from ISIS’ perspective, as they’ve laid heavy traps and tunneled in around the city in anticipation of the invasion, but indications were that a lot of these defensive measures were taken in residential areas. \n",
      "ISIS is believed to have several thousand fighters in Mosul, and with the US announcing they intend to kill anyone who tries to escape, they are likely to resist all the more fiercely, knowing they don’t have any place to go after Mosul. Last 5 posts by Jason Ditz\n",
      "\n",
      "\n",
      "Predict: real\n",
      "GT: real\n",
      "---------------------------------------------------------------------------------------------\n",
      "\n",
      "\u001b[1mRADICAL ANTI-GUN MUSLIM State Senator Who Was Arrested While Drunk With Gun, Joins Kaepernick’s “Disrespect The American Flag” Movement [VIDEO]\n",
      "\n",
      "\u001b[0mOn October 20, 2015, radical Muslim State senator Jamilah Rasheed was arrested while protesting with the manufactured  hands up don t shoot  movement in Ferguson. The vocal anti-gun legislator was also drunk and in possession of you guessed it a gun!You probably don t remember her arrest, or maybe you never even knew she was arrested. The media s kinda funny when it comes to covering law-breaking Democrats. So in case you missed it, the woman on her knees with her  hands up  pushing a false narrative that was proven in court to be a lie has decided to join Colin Kaepernick in his public disdain for America.In what she calls a  show of solidarity  with Colin Kaepernick, Missouri State Sen. Jamilah Nasheed, chose to sit as her colleagues stood for the Pledge of Allegiance on the senate floor. Nasheed said that she wants to call attention to the issues that the 49ers player outlines and that she is not  anti-American. Her seat taking was met with complete silence in the chamber.When the session ended however, Lt. Gov. Peter Kinder, a former GOP candidate for governor who presided over the Senate Wednesday, released a statement calling Nasheed s protest an  occasion for great sorrow.  He said he worried about  the example she is setting, particularly for our young people. It is indeed a sad day in this country when out NFL players, Soccer players, and now even members of our government are choosing to address their own beliefs and real issues in our country by completely disrespecting parts of what make us what we are AND they are doing it on the clock as we, the American people, are paying for it.How can it even be considered ethical for such protest to be acted out while on the job? I fully agree that each of these people do in fact have the right to protest how they see fit, but the issue here is that they are using platforms to get the attention they want that are literally funded by the very citizenship that they are showing such a huge disrespect for.Use your free time to protest, not the time in which I as an American citizen am paying for.H/T [ Fox ]\n",
      "\n",
      "\n",
      "Predict: real\n",
      "GT: real\n",
      "---------------------------------------------------------------------------------------------\n",
      "\n",
      "\u001b[1m“So Rude!” Nancy Pelosi’s Daughter Blasted By Maria Bartiromo [Video]\n",
      "\n",
      "\u001b[0m \n",
      "\n",
      "\n",
      "Predict: real\n",
      "GT: real\n",
      "---------------------------------------------------------------------------------------------\n",
      "\n",
      "\u001b[1mWATCH HERO Singlehandedly Shut Down Anti-Trump Protest: “Hey! This is library!” [Video]\n",
      "\n",
      "\u001b[0mThe video below is one of the highlights from the protests last year. Protesters at the University of Washington were firmly reminded that their shouting in a library was not appreciated. This is epic!About two dozen social justice warriors gathered in the normally quiet zone, a couple students wielding megaphones, and began to chant  Who s got the power?   We ve got the power!   What kind of power?   Equal power! The small protest took place about an hour after the inauguration, says the description on the YouTube video uploaded by KING 5 s Alex Rozier.But just as the momentum is getting louder, a lone voice calling  Hey, hey   hey!  interrupts the protest. Everyone quiets down as the camera dramatically pans to a young man in a dark-blue buttoned up shirt and glasses. This is library!  he scolds them.The protesters are stunned into silence for several moments, though a few feebly call out insults, including one woman who seems to ask if he s going to go back to Beijing. The man turns and leaves.Read more: barstoolsports.com\n",
      "\n",
      "\n",
      "Predict: real\n",
      "GT: real\n",
      "---------------------------------------------------------------------------------------------\n",
      "\n"
     ]
    }
   ],
   "source": [
    "for i in range(5):\n",
    "    idx = np.random.choice(range(len(news_data)))\n",
    "\n",
    "    print('\\033[1m'+news_data['title'][idx]+'\\n')\n",
    "    print('\\033[0m'+news_data['text'][idx])\n",
    "\n",
    "    label = news_data['label'][idx]\n",
    "    text = news_data['title'][idx] + ' ' + news_data['refined_tfidf'][idx]\n",
    "\n",
    "    input_id, attention_mask = tokenize_map([text])\n",
    "\n",
    "    g_label = model(input_id.to(device), token_type_ids=None, attention_mask=attention_mask.to(device))[0]\n",
    "    pred = torch.max(g_label, 1)[1][0].item()\n",
    "\n",
    "    print('\\n')\n",
    "    print('Predict: {}'.format(class_names[pred]))\n",
    "    print('GT: {}'.format(class_names[label]))\n",
    "    print('---------------------------------------------------------------------------------------------\\n')"
   ]
  },
  {
   "cell_type": "code",
   "execution_count": null,
   "id": "630cfb77",
   "metadata": {},
   "outputs": [],
   "source": []
  }
 ],
 "metadata": {
  "kernelspec": {
   "display_name": "Python 3 (ipykernel)",
   "language": "python",
   "name": "python3"
  },
  "language_info": {
   "codemirror_mode": {
    "name": "ipython",
    "version": 3
   },
   "file_extension": ".py",
   "mimetype": "text/x-python",
   "name": "python",
   "nbconvert_exporter": "python",
   "pygments_lexer": "ipython3",
   "version": "3.11.3"
  }
 },
 "nbformat": 4,
 "nbformat_minor": 5
}
